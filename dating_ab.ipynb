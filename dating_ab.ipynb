{
 "cells": [
  {
   "cell_type": "markdown",
   "id": "6cbc76d6",
   "metadata": {},
   "source": [
    "### Приложение знакомств\n",
    "\n",
    "Механика приложения следующая: пользователи видят в приложении анкеты друг друга и могут ставить друг другу лайки или дизлайки. Если пользователи поставили друг другу лайк – это называется мэтч, и у пользователей появляется возможность познакомиться.\n",
    "\n",
    "Был разработан новый алгоритм для поиска наиболее подходящих анкет. \n",
    "\n",
    "Необходимо оценить, правда ли, что новый алгоритм улучшил качество сервиса. "
   ]
  },
  {
   "cell_type": "code",
   "execution_count": 1,
   "id": "15797d3e",
   "metadata": {},
   "outputs": [],
   "source": [
    "import pandas as pd\n",
    "import numpy as np\n",
    "\n",
    "import scipy.stats as ss\n",
    "import pingouin as pg\n",
    "import statsmodels.api as sm\n",
    "\n",
    "import seaborn as sns \n",
    "import matplotlib.pyplot as plt\n",
    "\n",
    "%matplotlib inline\n"
   ]
  },
  {
   "cell_type": "markdown",
   "id": "6c5264de",
   "metadata": {},
   "source": [
    "### Предварительный анализ данных"
   ]
  },
  {
   "cell_type": "code",
   "execution_count": 2,
   "id": "611a5220",
   "metadata": {},
   "outputs": [],
   "source": [
    "df_dating = pd.read_csv('dating_data.csv')"
   ]
  },
  {
   "cell_type": "code",
   "execution_count": 3,
   "id": "47323a18",
   "metadata": {},
   "outputs": [
    {
     "data": {
      "text/html": [
       "<div>\n",
       "<style scoped>\n",
       "    .dataframe tbody tr th:only-of-type {\n",
       "        vertical-align: middle;\n",
       "    }\n",
       "\n",
       "    .dataframe tbody tr th {\n",
       "        vertical-align: top;\n",
       "    }\n",
       "\n",
       "    .dataframe thead th {\n",
       "        text-align: right;\n",
       "    }\n",
       "</style>\n",
       "<table border=\"1\" class=\"dataframe\">\n",
       "  <thead>\n",
       "    <tr style=\"text-align: right;\">\n",
       "      <th></th>\n",
       "      <th>user_id_1</th>\n",
       "      <th>user_id_2</th>\n",
       "      <th>group</th>\n",
       "      <th>is_match</th>\n",
       "    </tr>\n",
       "  </thead>\n",
       "  <tbody>\n",
       "    <tr>\n",
       "      <th>0</th>\n",
       "      <td>79</td>\n",
       "      <td>91</td>\n",
       "      <td>1</td>\n",
       "      <td>1</td>\n",
       "    </tr>\n",
       "    <tr>\n",
       "      <th>1</th>\n",
       "      <td>716</td>\n",
       "      <td>353</td>\n",
       "      <td>1</td>\n",
       "      <td>1</td>\n",
       "    </tr>\n",
       "    <tr>\n",
       "      <th>2</th>\n",
       "      <td>423</td>\n",
       "      <td>677</td>\n",
       "      <td>0</td>\n",
       "      <td>0</td>\n",
       "    </tr>\n",
       "    <tr>\n",
       "      <th>3</th>\n",
       "      <td>658</td>\n",
       "      <td>165</td>\n",
       "      <td>1</td>\n",
       "      <td>1</td>\n",
       "    </tr>\n",
       "    <tr>\n",
       "      <th>4</th>\n",
       "      <td>969</td>\n",
       "      <td>155</td>\n",
       "      <td>0</td>\n",
       "      <td>1</td>\n",
       "    </tr>\n",
       "  </tbody>\n",
       "</table>\n",
       "</div>"
      ],
      "text/plain": [
       "   user_id_1  user_id_2  group  is_match\n",
       "0         79         91      1         1\n",
       "1        716        353      1         1\n",
       "2        423        677      0         0\n",
       "3        658        165      1         1\n",
       "4        969        155      0         1"
      ]
     },
     "execution_count": 3,
     "metadata": {},
     "output_type": "execute_result"
    }
   ],
   "source": [
    "df_dating.head()"
   ]
  },
  {
   "cell_type": "code",
   "execution_count": 4,
   "id": "5bdf4ab2",
   "metadata": {},
   "outputs": [
    {
     "data": {
      "text/plain": [
       "(14514, 4)"
      ]
     },
     "execution_count": 4,
     "metadata": {},
     "output_type": "execute_result"
    }
   ],
   "source": [
    "df_dating.shape"
   ]
  },
  {
   "cell_type": "code",
   "execution_count": 5,
   "id": "47ee23e8",
   "metadata": {},
   "outputs": [
    {
     "data": {
      "text/plain": [
       "user_id_1    0\n",
       "user_id_2    0\n",
       "group        0\n",
       "is_match     0\n",
       "dtype: int64"
      ]
     },
     "execution_count": 5,
     "metadata": {},
     "output_type": "execute_result"
    }
   ],
   "source": [
    "df_dating.isna().sum()"
   ]
  },
  {
   "cell_type": "code",
   "execution_count": 6,
   "id": "2d9032fb",
   "metadata": {},
   "outputs": [
    {
     "data": {
      "text/html": [
       "<div>\n",
       "<style scoped>\n",
       "    .dataframe tbody tr th:only-of-type {\n",
       "        vertical-align: middle;\n",
       "    }\n",
       "\n",
       "    .dataframe tbody tr th {\n",
       "        vertical-align: top;\n",
       "    }\n",
       "\n",
       "    .dataframe thead tr th {\n",
       "        text-align: left;\n",
       "    }\n",
       "</style>\n",
       "<table border=\"1\" class=\"dataframe\">\n",
       "  <thead>\n",
       "    <tr>\n",
       "      <th></th>\n",
       "      <th>group</th>\n",
       "      <th colspan=\"3\" halign=\"left\">is_match</th>\n",
       "    </tr>\n",
       "    <tr>\n",
       "      <th></th>\n",
       "      <th></th>\n",
       "      <th>count</th>\n",
       "      <th>sum</th>\n",
       "      <th>mean</th>\n",
       "    </tr>\n",
       "  </thead>\n",
       "  <tbody>\n",
       "    <tr>\n",
       "      <th>0</th>\n",
       "      <td>0</td>\n",
       "      <td>4792</td>\n",
       "      <td>934</td>\n",
       "      <td>0.194908</td>\n",
       "    </tr>\n",
       "    <tr>\n",
       "      <th>1</th>\n",
       "      <td>1</td>\n",
       "      <td>9722</td>\n",
       "      <td>3909</td>\n",
       "      <td>0.402078</td>\n",
       "    </tr>\n",
       "  </tbody>\n",
       "</table>\n",
       "</div>"
      ],
      "text/plain": [
       "  group is_match                \n",
       "           count   sum      mean\n",
       "0     0     4792   934  0.194908\n",
       "1     1     9722  3909  0.402078"
      ]
     },
     "execution_count": 6,
     "metadata": {},
     "output_type": "execute_result"
    }
   ],
   "source": [
    "df_dating.groupby('group', as_index=False).agg({'is_match':['count', 'sum', 'mean']})"
   ]
  },
  {
   "cell_type": "code",
   "execution_count": 7,
   "id": "cb9fc096",
   "metadata": {},
   "outputs": [
    {
     "data": {
      "text/html": [
       "<div>\n",
       "<style scoped>\n",
       "    .dataframe tbody tr th:only-of-type {\n",
       "        vertical-align: middle;\n",
       "    }\n",
       "\n",
       "    .dataframe tbody tr th {\n",
       "        vertical-align: top;\n",
       "    }\n",
       "\n",
       "    .dataframe thead th {\n",
       "        text-align: right;\n",
       "    }\n",
       "</style>\n",
       "<table border=\"1\" class=\"dataframe\">\n",
       "  <thead>\n",
       "    <tr style=\"text-align: right;\">\n",
       "      <th></th>\n",
       "      <th>group</th>\n",
       "      <th>user_id_1</th>\n",
       "      <th>user_id_2</th>\n",
       "    </tr>\n",
       "  </thead>\n",
       "  <tbody>\n",
       "    <tr>\n",
       "      <th>0</th>\n",
       "      <td>0</td>\n",
       "      <td>501</td>\n",
       "      <td>501</td>\n",
       "    </tr>\n",
       "    <tr>\n",
       "      <th>1</th>\n",
       "      <td>1</td>\n",
       "      <td>499</td>\n",
       "      <td>499</td>\n",
       "    </tr>\n",
       "  </tbody>\n",
       "</table>\n",
       "</div>"
      ],
      "text/plain": [
       "   group  user_id_1  user_id_2\n",
       "0      0        501        501\n",
       "1      1        499        499"
      ]
     },
     "execution_count": 7,
     "metadata": {},
     "output_type": "execute_result"
    }
   ],
   "source": [
    "df_dating.groupby('group', as_index=False).agg({'user_id_1':'nunique', 'user_id_2':'nunique'})"
   ]
  },
  {
   "cell_type": "code",
   "execution_count": 8,
   "id": "80fbb2ee",
   "metadata": {},
   "outputs": [
    {
     "data": {
      "text/plain": [
       "set()"
      ]
     },
     "execution_count": 8,
     "metadata": {},
     "output_type": "execute_result"
    }
   ],
   "source": [
    "gr_00 = set(df_dating.query('group == 0').user_id_1)\n",
    "gr_01 = set(df_dating.query('group == 1').user_id_1)\n",
    "\n",
    "gr_00.intersection(gr_01)"
   ]
  },
  {
   "cell_type": "code",
   "execution_count": 9,
   "id": "54b59e87",
   "metadata": {},
   "outputs": [
    {
     "data": {
      "text/plain": [
       "set()"
      ]
     },
     "execution_count": 9,
     "metadata": {},
     "output_type": "execute_result"
    }
   ],
   "source": [
    "gr_10 = set(df_dating.query('group == 0').user_id_2)\n",
    "gr_11 = set(df_dating.query('group == 1').user_id_2)\n",
    "\n",
    "gr_10.intersection(gr_11)"
   ]
  },
  {
   "cell_type": "markdown",
   "id": "5f54ee64",
   "metadata": {},
   "source": [
    "### Выводы (предварительный анализ данных):  \n",
    "1. В данных не повторяются пары. \n",
    "2. Пользователи встречаются в двух колонках с айдишниками. \n",
    "3. Количество юзеров в каждой группе почти равны\n",
    "4. Число пар больше в экспериментальной группе \n",
    "5. Буду считать, что колонка user_id_1 - пользователь, который поставил лайк первым, а user_id_2 поставил лайк вторым\n",
    "6. Пересечений между группами нет"
   ]
  },
  {
   "cell_type": "markdown",
   "id": "d46ef678",
   "metadata": {},
   "source": [
    "### Метрики"
   ]
  },
  {
   "cell_type": "markdown",
   "id": "ed57da54",
   "metadata": {},
   "source": [
    "Первое что приходит в голову - это конверсия (число мэтчей, которое приходится на 1 пользователя деленное на число свайпов, но в нашем случе на общее число созданных пар).  \n",
    "Буду подсчитывать количество мэтчей, когда юзер стоит в первой колонке, потом когда во второй, затем складывать.  \n",
    "Второе, о чем я подумала - общее соотношение числа свайпов к числу метчей в двух разных группах"
   ]
  },
  {
   "cell_type": "markdown",
   "id": "59573724",
   "metadata": {},
   "source": [
    "### Конверсия"
   ]
  },
  {
   "cell_type": "code",
   "execution_count": 10,
   "id": "76085266",
   "metadata": {},
   "outputs": [
    {
     "data": {
      "text/html": [
       "<div>\n",
       "<style scoped>\n",
       "    .dataframe tbody tr th:only-of-type {\n",
       "        vertical-align: middle;\n",
       "    }\n",
       "\n",
       "    .dataframe tbody tr th {\n",
       "        vertical-align: top;\n",
       "    }\n",
       "\n",
       "    .dataframe thead th {\n",
       "        text-align: right;\n",
       "    }\n",
       "</style>\n",
       "<table border=\"1\" class=\"dataframe\">\n",
       "  <thead>\n",
       "    <tr style=\"text-align: right;\">\n",
       "      <th></th>\n",
       "      <th>user_id_1</th>\n",
       "      <th>user_id_2</th>\n",
       "      <th>group</th>\n",
       "      <th>is_match</th>\n",
       "    </tr>\n",
       "  </thead>\n",
       "  <tbody>\n",
       "    <tr>\n",
       "      <th>0</th>\n",
       "      <td>79</td>\n",
       "      <td>91</td>\n",
       "      <td>1</td>\n",
       "      <td>1</td>\n",
       "    </tr>\n",
       "    <tr>\n",
       "      <th>1</th>\n",
       "      <td>716</td>\n",
       "      <td>353</td>\n",
       "      <td>1</td>\n",
       "      <td>1</td>\n",
       "    </tr>\n",
       "    <tr>\n",
       "      <th>2</th>\n",
       "      <td>423</td>\n",
       "      <td>677</td>\n",
       "      <td>0</td>\n",
       "      <td>0</td>\n",
       "    </tr>\n",
       "    <tr>\n",
       "      <th>3</th>\n",
       "      <td>658</td>\n",
       "      <td>165</td>\n",
       "      <td>1</td>\n",
       "      <td>1</td>\n",
       "    </tr>\n",
       "    <tr>\n",
       "      <th>4</th>\n",
       "      <td>969</td>\n",
       "      <td>155</td>\n",
       "      <td>0</td>\n",
       "      <td>1</td>\n",
       "    </tr>\n",
       "  </tbody>\n",
       "</table>\n",
       "</div>"
      ],
      "text/plain": [
       "   user_id_1  user_id_2  group  is_match\n",
       "0         79         91      1         1\n",
       "1        716        353      1         1\n",
       "2        423        677      0         0\n",
       "3        658        165      1         1\n",
       "4        969        155      0         1"
      ]
     },
     "execution_count": 10,
     "metadata": {},
     "output_type": "execute_result"
    }
   ],
   "source": [
    "df_dating.head()"
   ]
  },
  {
   "cell_type": "code",
   "execution_count": 11,
   "id": "730fd43c",
   "metadata": {},
   "outputs": [],
   "source": [
    "df_match_1 = df_dating.groupby(['group', 'user_id_1'], as_index=False).agg({'is_match': ['sum', 'count']})"
   ]
  },
  {
   "cell_type": "code",
   "execution_count": 12,
   "id": "68c029b5",
   "metadata": {},
   "outputs": [],
   "source": [
    "df_match_1.droplevel(level=1, axis=1)\n",
    "df_match_1.columns = ['group', 'user_id', 'match_1', 'all_swipe_1']"
   ]
  },
  {
   "cell_type": "code",
   "execution_count": 13,
   "id": "289f0837",
   "metadata": {},
   "outputs": [],
   "source": [
    "df_match_2 = df_dating.groupby(['group', 'user_id_2'], as_index=False).agg({'is_match': ['sum', 'count']})"
   ]
  },
  {
   "cell_type": "code",
   "execution_count": 14,
   "id": "67f2c97d",
   "metadata": {},
   "outputs": [],
   "source": [
    "df_match_2.columns = ['group', 'user_id', 'match_2', 'all_swipe_2']"
   ]
  },
  {
   "cell_type": "code",
   "execution_count": 15,
   "id": "ecd6911a",
   "metadata": {},
   "outputs": [],
   "source": [
    "df_match = df_match_1.merge(df_match_2, on=['group', 'user_id'], how='inner')"
   ]
  },
  {
   "cell_type": "code",
   "execution_count": 16,
   "id": "1116d2ed",
   "metadata": {},
   "outputs": [
    {
     "data": {
      "text/html": [
       "<div>\n",
       "<style scoped>\n",
       "    .dataframe tbody tr th:only-of-type {\n",
       "        vertical-align: middle;\n",
       "    }\n",
       "\n",
       "    .dataframe tbody tr th {\n",
       "        vertical-align: top;\n",
       "    }\n",
       "\n",
       "    .dataframe thead th {\n",
       "        text-align: right;\n",
       "    }\n",
       "</style>\n",
       "<table border=\"1\" class=\"dataframe\">\n",
       "  <thead>\n",
       "    <tr style=\"text-align: right;\">\n",
       "      <th></th>\n",
       "      <th>group</th>\n",
       "      <th>user_id</th>\n",
       "      <th>match_1</th>\n",
       "      <th>all_swipe_1</th>\n",
       "      <th>match_2</th>\n",
       "      <th>all_swipe_2</th>\n",
       "    </tr>\n",
       "  </thead>\n",
       "  <tbody>\n",
       "    <tr>\n",
       "      <th>0</th>\n",
       "      <td>0</td>\n",
       "      <td>4</td>\n",
       "      <td>2</td>\n",
       "      <td>9</td>\n",
       "      <td>1</td>\n",
       "      <td>8</td>\n",
       "    </tr>\n",
       "    <tr>\n",
       "      <th>1</th>\n",
       "      <td>0</td>\n",
       "      <td>10</td>\n",
       "      <td>3</td>\n",
       "      <td>6</td>\n",
       "      <td>3</td>\n",
       "      <td>14</td>\n",
       "    </tr>\n",
       "    <tr>\n",
       "      <th>2</th>\n",
       "      <td>0</td>\n",
       "      <td>12</td>\n",
       "      <td>1</td>\n",
       "      <td>12</td>\n",
       "      <td>1</td>\n",
       "      <td>8</td>\n",
       "    </tr>\n",
       "    <tr>\n",
       "      <th>3</th>\n",
       "      <td>0</td>\n",
       "      <td>14</td>\n",
       "      <td>0</td>\n",
       "      <td>8</td>\n",
       "      <td>0</td>\n",
       "      <td>8</td>\n",
       "    </tr>\n",
       "    <tr>\n",
       "      <th>4</th>\n",
       "      <td>0</td>\n",
       "      <td>15</td>\n",
       "      <td>3</td>\n",
       "      <td>20</td>\n",
       "      <td>3</td>\n",
       "      <td>12</td>\n",
       "    </tr>\n",
       "  </tbody>\n",
       "</table>\n",
       "</div>"
      ],
      "text/plain": [
       "   group  user_id  match_1  all_swipe_1  match_2  all_swipe_2\n",
       "0      0        4        2            9        1            8\n",
       "1      0       10        3            6        3           14\n",
       "2      0       12        1           12        1            8\n",
       "3      0       14        0            8        0            8\n",
       "4      0       15        3           20        3           12"
      ]
     },
     "execution_count": 16,
     "metadata": {},
     "output_type": "execute_result"
    }
   ],
   "source": [
    "df_match.head()"
   ]
  },
  {
   "cell_type": "code",
   "execution_count": 17,
   "id": "ecb00fed",
   "metadata": {},
   "outputs": [],
   "source": [
    "df_match['CTR'] = (df_match.match_1 + df_match.match_2) / (df_match.all_swipe_1 + df_match.all_swipe_2) "
   ]
  },
  {
   "cell_type": "code",
   "execution_count": 18,
   "id": "304c9391",
   "metadata": {},
   "outputs": [],
   "source": [
    "df_match['all_swipe'] = df_match.all_swipe_1 + df_match.all_swipe_2\n",
    "df_match['match'] = df_match.match_1 + df_match.match_2"
   ]
  },
  {
   "cell_type": "code",
   "execution_count": 19,
   "id": "6bcca6bf",
   "metadata": {},
   "outputs": [],
   "source": [
    "df_match = df_match.drop(['match_1', 'all_swipe_1', 'match_2', 'all_swipe_2'], axis=1)"
   ]
  },
  {
   "cell_type": "code",
   "execution_count": 20,
   "id": "d8447d9d",
   "metadata": {},
   "outputs": [
    {
     "data": {
      "text/html": [
       "<div>\n",
       "<style scoped>\n",
       "    .dataframe tbody tr th:only-of-type {\n",
       "        vertical-align: middle;\n",
       "    }\n",
       "\n",
       "    .dataframe tbody tr th {\n",
       "        vertical-align: top;\n",
       "    }\n",
       "\n",
       "    .dataframe thead th {\n",
       "        text-align: right;\n",
       "    }\n",
       "</style>\n",
       "<table border=\"1\" class=\"dataframe\">\n",
       "  <thead>\n",
       "    <tr style=\"text-align: right;\">\n",
       "      <th></th>\n",
       "      <th>group</th>\n",
       "      <th>user_id</th>\n",
       "      <th>CTR</th>\n",
       "      <th>all_swipe</th>\n",
       "      <th>match</th>\n",
       "    </tr>\n",
       "  </thead>\n",
       "  <tbody>\n",
       "    <tr>\n",
       "      <th>0</th>\n",
       "      <td>0</td>\n",
       "      <td>4</td>\n",
       "      <td>0.176471</td>\n",
       "      <td>17</td>\n",
       "      <td>3</td>\n",
       "    </tr>\n",
       "    <tr>\n",
       "      <th>1</th>\n",
       "      <td>0</td>\n",
       "      <td>10</td>\n",
       "      <td>0.300000</td>\n",
       "      <td>20</td>\n",
       "      <td>6</td>\n",
       "    </tr>\n",
       "    <tr>\n",
       "      <th>2</th>\n",
       "      <td>0</td>\n",
       "      <td>12</td>\n",
       "      <td>0.100000</td>\n",
       "      <td>20</td>\n",
       "      <td>2</td>\n",
       "    </tr>\n",
       "    <tr>\n",
       "      <th>3</th>\n",
       "      <td>0</td>\n",
       "      <td>14</td>\n",
       "      <td>0.000000</td>\n",
       "      <td>16</td>\n",
       "      <td>0</td>\n",
       "    </tr>\n",
       "    <tr>\n",
       "      <th>4</th>\n",
       "      <td>0</td>\n",
       "      <td>15</td>\n",
       "      <td>0.187500</td>\n",
       "      <td>32</td>\n",
       "      <td>6</td>\n",
       "    </tr>\n",
       "    <tr>\n",
       "      <th>...</th>\n",
       "      <td>...</td>\n",
       "      <td>...</td>\n",
       "      <td>...</td>\n",
       "      <td>...</td>\n",
       "      <td>...</td>\n",
       "    </tr>\n",
       "    <tr>\n",
       "      <th>995</th>\n",
       "      <td>1</td>\n",
       "      <td>987</td>\n",
       "      <td>0.414634</td>\n",
       "      <td>41</td>\n",
       "      <td>17</td>\n",
       "    </tr>\n",
       "    <tr>\n",
       "      <th>996</th>\n",
       "      <td>1</td>\n",
       "      <td>992</td>\n",
       "      <td>0.400000</td>\n",
       "      <td>35</td>\n",
       "      <td>14</td>\n",
       "    </tr>\n",
       "    <tr>\n",
       "      <th>997</th>\n",
       "      <td>1</td>\n",
       "      <td>993</td>\n",
       "      <td>0.439024</td>\n",
       "      <td>41</td>\n",
       "      <td>18</td>\n",
       "    </tr>\n",
       "    <tr>\n",
       "      <th>998</th>\n",
       "      <td>1</td>\n",
       "      <td>998</td>\n",
       "      <td>0.500000</td>\n",
       "      <td>36</td>\n",
       "      <td>18</td>\n",
       "    </tr>\n",
       "    <tr>\n",
       "      <th>999</th>\n",
       "      <td>1</td>\n",
       "      <td>1000</td>\n",
       "      <td>0.500000</td>\n",
       "      <td>38</td>\n",
       "      <td>19</td>\n",
       "    </tr>\n",
       "  </tbody>\n",
       "</table>\n",
       "<p>1000 rows × 5 columns</p>\n",
       "</div>"
      ],
      "text/plain": [
       "     group  user_id       CTR  all_swipe  match\n",
       "0        0        4  0.176471         17      3\n",
       "1        0       10  0.300000         20      6\n",
       "2        0       12  0.100000         20      2\n",
       "3        0       14  0.000000         16      0\n",
       "4        0       15  0.187500         32      6\n",
       "..     ...      ...       ...        ...    ...\n",
       "995      1      987  0.414634         41     17\n",
       "996      1      992  0.400000         35     14\n",
       "997      1      993  0.439024         41     18\n",
       "998      1      998  0.500000         36     18\n",
       "999      1     1000  0.500000         38     19\n",
       "\n",
       "[1000 rows x 5 columns]"
      ]
     },
     "execution_count": 20,
     "metadata": {},
     "output_type": "execute_result"
    }
   ],
   "source": [
    "df_match "
   ]
  },
  {
   "cell_type": "markdown",
   "id": "7f1eb57d",
   "metadata": {},
   "source": [
    "### Визуализация CTR"
   ]
  },
  {
   "cell_type": "code",
   "execution_count": 21,
   "id": "dd8e9d3a-ca8a-4fc9-af36-1948de0403f1",
   "metadata": {},
   "outputs": [
    {
     "name": "stderr",
     "output_type": "stream",
     "text": [
      "C:\\ProgramData\\anaconda3\\Lib\\site-packages\\seaborn\\axisgrid.py:118: UserWarning: The figure layout has changed to tight\n",
      "  self._figure.tight_layout(*args, **kwargs)\n"
     ]
    },
    {
     "data": {
      "text/plain": [
       "<seaborn.axisgrid.FacetGrid at 0x26aff5fedd0>"
      ]
     },
     "execution_count": 21,
     "metadata": {},
     "output_type": "execute_result"
    },
    {
     "data": {
      "image/png": "[encoded data removed]",
      "text/plain": [
       "<Figure size 558.875x500 with 1 Axes>"
      ]
     },
     "metadata": {},
     "output_type": "display_data"
    }
   ],
   "source": [
    "sns.displot(df_match, x='CTR', hue='group', bins=20)"
   ]
  },
  {
   "cell_type": "code",
   "execution_count": 22,
   "id": "e1db4f00",
   "metadata": {},
   "outputs": [
    {
     "data": {
      "text/plain": [
       "Text(0, 0.5, 'CTR')"
      ]
     },
     "execution_count": 22,
     "metadata": {},
     "output_type": "execute_result"
    },
    {
     "data": {
      "image/png": "[encoded data removed]",
      "text/plain": [
       "<Figure size 640x480 with 1 Axes>"
      ]
     },
     "metadata": {},
     "output_type": "display_data"
    }
   ],
   "source": [
    "sns.boxplot(x = 'group', y = 'CTR', data = df_match)\n",
    "plt.title('CTR в зависимости от группы')\n",
    "plt.xlabel('Группа')\n",
    "plt.ylabel('CTR')"
   ]
  },
  {
   "cell_type": "code",
   "execution_count": 23,
   "id": "334ddabc",
   "metadata": {},
   "outputs": [
    {
     "data": {
      "text/plain": [
       "Text(0, 0.5, 'CTR')"
      ]
     },
     "execution_count": 23,
     "metadata": {},
     "output_type": "execute_result"
    },
    {
     "data": {
      "image/png": "[encoded data removed]",
      "text/plain": [
       "<Figure size 640x480 with 1 Axes>"
      ]
     },
     "metadata": {},
     "output_type": "display_data"
    }
   ],
   "source": [
    "sns.violinplot(x = 'group', y = 'CTR', data = df_match)\n",
    "plt.title('CTR в зависимости от группы')\n",
    "plt.xlabel('Группа')\n",
    "plt.ylabel('CTR')"
   ]
  },
  {
   "cell_type": "code",
   "execution_count": 24,
   "id": "03da31e9",
   "metadata": {},
   "outputs": [
    {
     "data": {
      "text/html": [
       "<div>\n",
       "<style scoped>\n",
       "    .dataframe tbody tr th:only-of-type {\n",
       "        vertical-align: middle;\n",
       "    }\n",
       "\n",
       "    .dataframe tbody tr th {\n",
       "        vertical-align: top;\n",
       "    }\n",
       "\n",
       "    .dataframe thead th {\n",
       "        text-align: right;\n",
       "    }\n",
       "</style>\n",
       "<table border=\"1\" class=\"dataframe\">\n",
       "  <thead>\n",
       "    <tr style=\"text-align: right;\">\n",
       "      <th></th>\n",
       "      <th>W</th>\n",
       "      <th>pval</th>\n",
       "      <th>normal</th>\n",
       "    </tr>\n",
       "  </thead>\n",
       "  <tbody>\n",
       "    <tr>\n",
       "      <th>group</th>\n",
       "      <td>NaN</td>\n",
       "      <td>NaN</td>\n",
       "      <td>False</td>\n",
       "    </tr>\n",
       "    <tr>\n",
       "      <th>user_id</th>\n",
       "      <td>260.965</td>\n",
       "      <td>0.000</td>\n",
       "      <td>False</td>\n",
       "    </tr>\n",
       "    <tr>\n",
       "      <th>CTR</th>\n",
       "      <td>3.142</td>\n",
       "      <td>0.208</td>\n",
       "      <td>True</td>\n",
       "    </tr>\n",
       "    <tr>\n",
       "      <th>all_swipe</th>\n",
       "      <td>5.214</td>\n",
       "      <td>0.074</td>\n",
       "      <td>True</td>\n",
       "    </tr>\n",
       "    <tr>\n",
       "      <th>match</th>\n",
       "      <td>26.414</td>\n",
       "      <td>0.000</td>\n",
       "      <td>False</td>\n",
       "    </tr>\n",
       "  </tbody>\n",
       "</table>\n",
       "</div>"
      ],
      "text/plain": [
       "                 W   pval  normal\n",
       "group          NaN    NaN   False\n",
       "user_id    260.965  0.000   False\n",
       "CTR          3.142  0.208    True\n",
       "all_swipe    5.214  0.074    True\n",
       "match       26.414  0.000   False"
      ]
     },
     "execution_count": 24,
     "metadata": {},
     "output_type": "execute_result"
    }
   ],
   "source": [
    "pg.normality(df_match.query(\"group == 0\"), method='normaltest').round(3)"
   ]
  },
  {
   "cell_type": "code",
   "execution_count": 25,
   "id": "7374631d",
   "metadata": {},
   "outputs": [
    {
     "name": "stderr",
     "output_type": "stream",
     "text": [
      "C:\\ProgramData\\anaconda3\\Lib\\site-packages\\scipy\\stats\\_stats_py.py:1606: RuntimeWarning: Precision loss occurred in moment calculation due to catastrophic cancellation. This occurs when the data are nearly identical. Results may be unreliable.\n",
      "  b2 = skew(a, axis)\n",
      "C:\\ProgramData\\anaconda3\\Lib\\site-packages\\scipy\\stats\\_stats_py.py:1808: RuntimeWarning: Precision loss occurred in moment calculation due to catastrophic cancellation. This occurs when the data are nearly identical. Results may be unreliable.\n",
      "  b2 = kurtosis(a, axis, fisher=False)\n"
     ]
    },
    {
     "data": {
      "text/html": [
       "<div>\n",
       "<style scoped>\n",
       "    .dataframe tbody tr th:only-of-type {\n",
       "        vertical-align: middle;\n",
       "    }\n",
       "\n",
       "    .dataframe tbody tr th {\n",
       "        vertical-align: top;\n",
       "    }\n",
       "\n",
       "    .dataframe thead th {\n",
       "        text-align: right;\n",
       "    }\n",
       "</style>\n",
       "<table border=\"1\" class=\"dataframe\">\n",
       "  <thead>\n",
       "    <tr style=\"text-align: right;\">\n",
       "      <th></th>\n",
       "      <th>W</th>\n",
       "      <th>pval</th>\n",
       "      <th>normal</th>\n",
       "    </tr>\n",
       "  </thead>\n",
       "  <tbody>\n",
       "    <tr>\n",
       "      <th>group</th>\n",
       "      <td>NaN</td>\n",
       "      <td>NaN</td>\n",
       "      <td>False</td>\n",
       "    </tr>\n",
       "    <tr>\n",
       "      <th>user_id</th>\n",
       "      <td>387.328</td>\n",
       "      <td>0.000</td>\n",
       "      <td>False</td>\n",
       "    </tr>\n",
       "    <tr>\n",
       "      <th>CTR</th>\n",
       "      <td>4.217</td>\n",
       "      <td>0.121</td>\n",
       "      <td>True</td>\n",
       "    </tr>\n",
       "    <tr>\n",
       "      <th>all_swipe</th>\n",
       "      <td>0.320</td>\n",
       "      <td>0.852</td>\n",
       "      <td>True</td>\n",
       "    </tr>\n",
       "    <tr>\n",
       "      <th>match</th>\n",
       "      <td>8.029</td>\n",
       "      <td>0.018</td>\n",
       "      <td>False</td>\n",
       "    </tr>\n",
       "  </tbody>\n",
       "</table>\n",
       "</div>"
      ],
      "text/plain": [
       "                 W   pval  normal\n",
       "group          NaN    NaN   False\n",
       "user_id    387.328  0.000   False\n",
       "CTR          4.217  0.121    True\n",
       "all_swipe    0.320  0.852    True\n",
       "match        8.029  0.018   False"
      ]
     },
     "execution_count": 25,
     "metadata": {},
     "output_type": "execute_result"
    }
   ],
   "source": [
    "pg.normality(df_match.query(\"group == 1\"), method='normaltest').round(3)"
   ]
  },
  {
   "cell_type": "code",
   "execution_count": 26,
   "id": "351c8ee3",
   "metadata": {},
   "outputs": [
    {
     "data": {
      "text/plain": [
       "LeveneResult(statistic=7.013821816267975, pvalue=0.008215929686873376)"
      ]
     },
     "execution_count": 26,
     "metadata": {},
     "output_type": "execute_result"
    }
   ],
   "source": [
    "ss.levene(df_match.query(\"group == 0\").CTR, df_match.query(\"group == 1\").CTR)"
   ]
  },
  {
   "cell_type": "markdown",
   "id": "114e89c3",
   "metadata": {},
   "source": [
    "### Вывод (анализ распределений)\n",
    "Тесты показали, что распределение CTR является нормальным, но требование гомогенности дисперсий не выполняется. Необходимо использовать t-тест Уэлча для сравнения средних значений выборок.\n"
   ]
  },
  {
   "cell_type": "markdown",
   "id": "f9681892",
   "metadata": {},
   "source": [
    "### Как изменился CTR \n",
    "#### Гипотезы  \n",
    "$H_0$ - средние значения CTR равны в экспериментальной и контрольной группах  \n",
    "$H_1$ - средние значения CTR в группах различаются "
   ]
  },
  {
   "cell_type": "code",
   "execution_count": 27,
   "id": "7a0a7bd0-e65f-4cb5-a565-02e9f8296121",
   "metadata": {},
   "outputs": [],
   "source": [
    "group_control = np.array(df_match.query(\"group == 0\").CTR)\n",
    "group_experiment = np.array(df_match.query(\"group == 1\").CTR)"
   ]
  },
  {
   "cell_type": "code",
   "execution_count": 28,
   "id": "94734c04",
   "metadata": {},
   "outputs": [
    {
     "data": {
      "text/html": [
       "<div>\n",
       "<style scoped>\n",
       "    .dataframe tbody tr th:only-of-type {\n",
       "        vertical-align: middle;\n",
       "    }\n",
       "\n",
       "    .dataframe tbody tr th {\n",
       "        vertical-align: top;\n",
       "    }\n",
       "\n",
       "    .dataframe thead th {\n",
       "        text-align: right;\n",
       "    }\n",
       "</style>\n",
       "<table border=\"1\" class=\"dataframe\">\n",
       "  <thead>\n",
       "    <tr style=\"text-align: right;\">\n",
       "      <th></th>\n",
       "      <th>T</th>\n",
       "      <th>dof</th>\n",
       "      <th>alternative</th>\n",
       "      <th>p-val</th>\n",
       "      <th>CI95%</th>\n",
       "      <th>cohen-d</th>\n",
       "      <th>BF10</th>\n",
       "      <th>power</th>\n",
       "    </tr>\n",
       "  </thead>\n",
       "  <tbody>\n",
       "    <tr>\n",
       "      <th>T-test</th>\n",
       "      <td>-38.242658</td>\n",
       "      <td>987.842388</td>\n",
       "      <td>two-sided</td>\n",
       "      <td>4.415154e-197</td>\n",
       "      <td>[-0.22, -0.2]</td>\n",
       "      <td>2.418173</td>\n",
       "      <td>3.171e+193</td>\n",
       "      <td>1.0</td>\n",
       "    </tr>\n",
       "  </tbody>\n",
       "</table>\n",
       "</div>"
      ],
      "text/plain": [
       "                T         dof alternative          p-val          CI95%  \\\n",
       "T-test -38.242658  987.842388   two-sided  4.415154e-197  [-0.22, -0.2]   \n",
       "\n",
       "         cohen-d        BF10  power  \n",
       "T-test  2.418173  3.171e+193    1.0  "
      ]
     },
     "execution_count": 28,
     "metadata": {},
     "output_type": "execute_result"
    }
   ],
   "source": [
    "pg.ttest(group_control, group_experiment, correction='auto')"
   ]
  },
  {
   "cell_type": "markdown",
   "id": "d80881d9",
   "metadata": {},
   "source": [
    "### Вывод (t-тест Уэлча)\n",
    "t-тест Уэлча показал, что средние значения в экспериментальной и контрольной выборках статистически значимо различаются, следовательно с высокой долей вероятности мы можем утверждать, что новый алгоритм улучшил качество сервиса"
   ]
  },
  {
   "cell_type": "markdown",
   "id": "2fdfedd4",
   "metadata": {},
   "source": [
    "### Как изменяется соотношение метчей и не-метчей\n",
    "#### Гипотезы  \n",
    "$H_0$ - соотношение метчей и не-метчей равны в экспериментальной и контрольной группах  \n",
    "$H_1$ - соотношение метчей и не-метчей в группах различаются "
   ]
  },
  {
   "cell_type": "code",
   "execution_count": 29,
   "id": "662f66df",
   "metadata": {},
   "outputs": [
    {
     "data": {
      "text/html": [
       "<div>\n",
       "<style scoped>\n",
       "    .dataframe tbody tr th:only-of-type {\n",
       "        vertical-align: middle;\n",
       "    }\n",
       "\n",
       "    .dataframe tbody tr th {\n",
       "        vertical-align: top;\n",
       "    }\n",
       "\n",
       "    .dataframe thead th {\n",
       "        text-align: right;\n",
       "    }\n",
       "</style>\n",
       "<table border=\"1\" class=\"dataframe\">\n",
       "  <thead>\n",
       "    <tr style=\"text-align: right;\">\n",
       "      <th>is_match</th>\n",
       "      <th>0</th>\n",
       "      <th>1</th>\n",
       "    </tr>\n",
       "    <tr>\n",
       "      <th>group</th>\n",
       "      <th></th>\n",
       "      <th></th>\n",
       "    </tr>\n",
       "  </thead>\n",
       "  <tbody>\n",
       "    <tr>\n",
       "      <th>0</th>\n",
       "      <td>3858</td>\n",
       "      <td>934</td>\n",
       "    </tr>\n",
       "    <tr>\n",
       "      <th>1</th>\n",
       "      <td>5813</td>\n",
       "      <td>3909</td>\n",
       "    </tr>\n",
       "  </tbody>\n",
       "</table>\n",
       "</div>"
      ],
      "text/plain": [
       "is_match     0     1\n",
       "group               \n",
       "0         3858   934\n",
       "1         5813  3909"
      ]
     },
     "execution_count": 29,
     "metadata": {},
     "output_type": "execute_result"
    }
   ],
   "source": [
    "table = pd.crosstab(df_dating.group, df_dating.is_match)\n",
    "table"
   ]
  },
  {
   "cell_type": "code",
   "execution_count": 30,
   "id": "7257ea3c",
   "metadata": {},
   "outputs": [],
   "source": [
    "expected, observed, stats = pg.chi2_independence(df_dating, x='group',\n",
    "                                                 y='is_match')"
   ]
  },
  {
   "cell_type": "code",
   "execution_count": 31,
   "id": "0bfcfbc0",
   "metadata": {},
   "outputs": [
    {
     "data": {
      "text/html": [
       "<div>\n",
       "<style scoped>\n",
       "    .dataframe tbody tr th:only-of-type {\n",
       "        vertical-align: middle;\n",
       "    }\n",
       "\n",
       "    .dataframe tbody tr th {\n",
       "        vertical-align: top;\n",
       "    }\n",
       "\n",
       "    .dataframe thead th {\n",
       "        text-align: right;\n",
       "    }\n",
       "</style>\n",
       "<table border=\"1\" class=\"dataframe\">\n",
       "  <thead>\n",
       "    <tr style=\"text-align: right;\">\n",
       "      <th></th>\n",
       "      <th>test</th>\n",
       "      <th>lambda</th>\n",
       "      <th>chi2</th>\n",
       "      <th>dof</th>\n",
       "      <th>pval</th>\n",
       "      <th>cramer</th>\n",
       "      <th>power</th>\n",
       "    </tr>\n",
       "  </thead>\n",
       "  <tbody>\n",
       "    <tr>\n",
       "      <th>0</th>\n",
       "      <td>pearson</td>\n",
       "      <td>1.000000</td>\n",
       "      <td>618.688914</td>\n",
       "      <td>1.0</td>\n",
       "      <td>1.441830e-136</td>\n",
       "      <td>0.206463</td>\n",
       "      <td>1.0</td>\n",
       "    </tr>\n",
       "    <tr>\n",
       "      <th>1</th>\n",
       "      <td>cressie-read</td>\n",
       "      <td>0.666667</td>\n",
       "      <td>628.560791</td>\n",
       "      <td>1.0</td>\n",
       "      <td>1.027630e-138</td>\n",
       "      <td>0.208104</td>\n",
       "      <td>1.0</td>\n",
       "    </tr>\n",
       "    <tr>\n",
       "      <th>2</th>\n",
       "      <td>log-likelihood</td>\n",
       "      <td>0.000000</td>\n",
       "      <td>652.966812</td>\n",
       "      <td>1.0</td>\n",
       "      <td>5.056969e-144</td>\n",
       "      <td>0.212106</td>\n",
       "      <td>1.0</td>\n",
       "    </tr>\n",
       "    <tr>\n",
       "      <th>3</th>\n",
       "      <td>freeman-tukey</td>\n",
       "      <td>-0.500000</td>\n",
       "      <td>675.931262</td>\n",
       "      <td>1.0</td>\n",
       "      <td>5.125545e-149</td>\n",
       "      <td>0.215803</td>\n",
       "      <td>1.0</td>\n",
       "    </tr>\n",
       "    <tr>\n",
       "      <th>4</th>\n",
       "      <td>mod-log-likelihood</td>\n",
       "      <td>-1.000000</td>\n",
       "      <td>703.556093</td>\n",
       "      <td>1.0</td>\n",
       "      <td>5.039774e-155</td>\n",
       "      <td>0.220169</td>\n",
       "      <td>1.0</td>\n",
       "    </tr>\n",
       "    <tr>\n",
       "      <th>5</th>\n",
       "      <td>neyman</td>\n",
       "      <td>-2.000000</td>\n",
       "      <td>775.869247</td>\n",
       "      <td>1.0</td>\n",
       "      <td>9.519662e-171</td>\n",
       "      <td>0.231207</td>\n",
       "      <td>1.0</td>\n",
       "    </tr>\n",
       "  </tbody>\n",
       "</table>\n",
       "</div>"
      ],
      "text/plain": [
       "                 test    lambda        chi2  dof           pval    cramer  \\\n",
       "0             pearson  1.000000  618.688914  1.0  1.441830e-136  0.206463   \n",
       "1        cressie-read  0.666667  628.560791  1.0  1.027630e-138  0.208104   \n",
       "2      log-likelihood  0.000000  652.966812  1.0  5.056969e-144  0.212106   \n",
       "3       freeman-tukey -0.500000  675.931262  1.0  5.125545e-149  0.215803   \n",
       "4  mod-log-likelihood -1.000000  703.556093  1.0  5.039774e-155  0.220169   \n",
       "5              neyman -2.000000  775.869247  1.0  9.519662e-171  0.231207   \n",
       "\n",
       "   power  \n",
       "0    1.0  \n",
       "1    1.0  \n",
       "2    1.0  \n",
       "3    1.0  \n",
       "4    1.0  \n",
       "5    1.0  "
      ]
     },
     "execution_count": 31,
     "metadata": {},
     "output_type": "execute_result"
    }
   ],
   "source": [
    "stats"
   ]
  },
  {
   "cell_type": "markdown",
   "id": "733b3921",
   "metadata": {},
   "source": [
    "### Вывод \n",
    "Соотношение статистически значимо отличается в контрольной и экспериментальной группе (в эксперментальной группе соотношение метчей к не-метчей выше)"
   ]
  },
  {
   "cell_type": "markdown",
   "id": "b182639a",
   "metadata": {},
   "source": [
    "### Как изменилось число анкет, которые видит 1 пользователь\n",
    "#### Гипотезы  \n",
    "$H_0$ - средние значения числа анкет, которые видит 1 пользователь, равны в экспериментальной и контрольной группах  \n",
    "$H_1$ - средние значения числа анкет, которые видит 1 пользователь, в группах различаются "
   ]
  },
  {
   "cell_type": "code",
   "execution_count": 35,
   "id": "3e6d38b7",
   "metadata": {},
   "outputs": [
    {
     "data": {
      "text/plain": [
       "Text(0, 0.5, 'Количество свайпов')"
      ]
     },
     "execution_count": 35,
     "metadata": {},
     "output_type": "execute_result"
    },
    {
     "data": {
      "image/png": "[encoded data removed]",
      "text/plain": [
       "<Figure size 640x480 with 1 Axes>"
      ]
     },
     "metadata": {},
     "output_type": "display_data"
    }
   ],
   "source": [
    "sns.violinplot(x = 'group', y = 'all_swipe', data = df_match)\n",
    "plt.title('Количество свайпов в зависимости от группы')\n",
    "plt.xlabel('Группа')\n",
    "plt.ylabel('Количество свайпов')"
   ]
  },
  {
   "cell_type": "code",
   "execution_count": 36,
   "id": "b4610dc1",
   "metadata": {},
   "outputs": [],
   "source": [
    "group_control = np.array(df_match.query(\"group == 0\").CTR)\n",
    "group_experiment = np.array(df_match.query(\"group == 1\").CTR)"
   ]
  },
  {
   "cell_type": "code",
   "execution_count": 37,
   "id": "b3df4f4f",
   "metadata": {},
   "outputs": [
    {
     "data": {
      "text/html": [
       "<div>\n",
       "<style scoped>\n",
       "    .dataframe tbody tr th:only-of-type {\n",
       "        vertical-align: middle;\n",
       "    }\n",
       "\n",
       "    .dataframe tbody tr th {\n",
       "        vertical-align: top;\n",
       "    }\n",
       "\n",
       "    .dataframe thead th {\n",
       "        text-align: right;\n",
       "    }\n",
       "</style>\n",
       "<table border=\"1\" class=\"dataframe\">\n",
       "  <thead>\n",
       "    <tr style=\"text-align: right;\">\n",
       "      <th></th>\n",
       "      <th>T</th>\n",
       "      <th>dof</th>\n",
       "      <th>alternative</th>\n",
       "      <th>p-val</th>\n",
       "      <th>CI95%</th>\n",
       "      <th>cohen-d</th>\n",
       "      <th>BF10</th>\n",
       "      <th>power</th>\n",
       "    </tr>\n",
       "  </thead>\n",
       "  <tbody>\n",
       "    <tr>\n",
       "      <th>T-test</th>\n",
       "      <td>-38.242658</td>\n",
       "      <td>987.842388</td>\n",
       "      <td>two-sided</td>\n",
       "      <td>4.415154e-197</td>\n",
       "      <td>[-0.22, -0.2]</td>\n",
       "      <td>2.418173</td>\n",
       "      <td>3.171e+193</td>\n",
       "      <td>1.0</td>\n",
       "    </tr>\n",
       "  </tbody>\n",
       "</table>\n",
       "</div>"
      ],
      "text/plain": [
       "                T         dof alternative          p-val          CI95%  \\\n",
       "T-test -38.242658  987.842388   two-sided  4.415154e-197  [-0.22, -0.2]   \n",
       "\n",
       "         cohen-d        BF10  power  \n",
       "T-test  2.418173  3.171e+193    1.0  "
      ]
     },
     "execution_count": 37,
     "metadata": {},
     "output_type": "execute_result"
    }
   ],
   "source": [
    "pg.ttest(group_control, group_experiment, correction='auto')"
   ]
  },
  {
   "cell_type": "markdown",
   "id": "0d1fe617",
   "metadata": {},
   "source": [
    "### Вывод (t-тест)\n",
    "t-тест показал, что средние значения в экспериментальной и контрольной выборках статистически значимо различаются, следовательно с высокой долей вероятности мы можем утверждать, что новый алгоритм улучшил качество сервиса\n"
   ]
  },
  {
   "cell_type": "markdown",
   "id": "8e3004ca",
   "metadata": {},
   "source": [
    "### Общий вывод:\n",
    "Проведенный эксперимент показал, что с высокой долей вероятности новый алгоритм оказал положительное влияние на поиск наиболее подходящих анкет. Раскатываем алгоритм на всех пользователей. "
   ]
  }
 ],
 "metadata": {
  "kernelspec": {
   "display_name": "Python 3 (ipykernel)",
   "language": "python",
   "name": "python3"
  },
  "language_info": {
   "codemirror_mode": {
    "name": "ipython",
    "version": 3
   },
   "file_extension": ".py",
   "mimetype": "text/x-python",
   "name": "python",
   "nbconvert_exporter": "python",
   "pygments_lexer": "ipython3",
   "version": "3.11.5"
  }
 },
 "nbformat": 4,
 "nbformat_minor": 5
}
